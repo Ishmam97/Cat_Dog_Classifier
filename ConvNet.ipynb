{
 "cells": [
  {
   "cell_type": "code",
   "execution_count": 14,
   "metadata": {},
   "outputs": [],
   "source": [
    "import pickle\n",
    "import numpy as np\n",
    "import matplotlib.pyplot as plt\n",
    "import os \n",
    "import cv2\n",
    "import random"
   ]
  },
  {
   "cell_type": "code",
   "execution_count": 15,
   "metadata": {},
   "outputs": [],
   "source": [
    "imagesdir = \"images/train/\"\n",
    "\n",
    "img_size = 50\n",
    "training_data = []\n",
    "errors = []\n",
    "#prepare training data in the form (image , classification)\n",
    "for filename in os.listdir(imagesdir):\n",
    "    try:\n",
    "        img_array = cv2.imread(os.path.join(imagesdir, filename), 0)\n",
    "        img_array = cv2.resize(img_array , (img_size , img_size))    \n",
    "        if filename.startswith(\"dog\"):\n",
    "            classification = 1\n",
    "        else:\n",
    "            classification = 0\n",
    "        training_data.append([img_array  , classification])\n",
    "    except Exception as e:\n",
    "        errors.append(e)"
   ]
  },
  {
   "cell_type": "code",
   "execution_count": 16,
   "metadata": {
    "scrolled": true
   },
   "outputs": [],
   "source": [
    "#shuffle data\n",
    "random.shuffle(training_data)\n",
    "X = []\n",
    "Y = []\n",
    "#separate into X and Y and reshape X\n",
    "for features , label in training_data:\n",
    "    X.append(features)\n",
    "    Y.append(label)\n",
    "X = np.array(X).reshape(-1 , img_size, img_size , 1)\n",
    "Y = np.array(Y)"
   ]
  },
  {
   "cell_type": "code",
   "execution_count": 17,
   "metadata": {},
   "outputs": [],
   "source": [
    "pickle_out= open('X.pickle' , 'wb')  #save arrays\n",
    "pickle.dump(X , pickle_out)\n",
    "pickle_out = open ('Y.pickle' , 'wb')\n",
    "pickle.dump(Y, pickle_out)\n",
    "pickle_out.close()"
   ]
  },
  {
   "cell_type": "code",
   "execution_count": 18,
   "metadata": {},
   "outputs": [],
   "source": [
    "#load arrays\n",
    "X = pickle.load(open('X.pickle' , 'rb'))\n",
    "Y = pickle.load(open('Y.pickle' , 'rb'))"
   ]
  },
  {
   "cell_type": "code",
   "execution_count": 22,
   "metadata": {},
   "outputs": [
    {
     "data": {
      "text/plain": [
       "array([1, 1, 1, ..., 1, 0, 1])"
      ]
     },
     "execution_count": 22,
     "metadata": {},
     "output_type": "execute_result"
    }
   ],
   "source": [
    "len(X)\n",
    "Y"
   ]
  },
  {
   "cell_type": "code",
   "execution_count": 20,
   "metadata": {},
   "outputs": [],
   "source": [
    "import tensorflow as tf\n",
    "from tensorflow.keras.models import Sequential\n",
    "from tensorflow.keras.layers import Dense , Activation , MaxPooling2D, Flatten , Conv2D , Dropout"
   ]
  },
  {
   "cell_type": "code",
   "execution_count": 21,
   "metadata": {
    "scrolled": true
   },
   "outputs": [
    {
     "name": "stdout",
     "output_type": "stream",
     "text": [
      "Epoch 1/5\n",
      "547/547 [==============================] - 122s 223ms/step - loss: 0.6548 - accuracy: 0.6074 - val_loss: 0.7131 - val_accuracy: 0.5850\n",
      "Epoch 2/5\n",
      "547/547 [==============================] - 124s 228ms/step - loss: 0.5799 - accuracy: 0.6980 - val_loss: 0.5466 - val_accuracy: 0.7284\n",
      "Epoch 3/5\n",
      "547/547 [==============================] - 123s 225ms/step - loss: 0.5269 - accuracy: 0.7392 - val_loss: 0.5370 - val_accuracy: 0.7366\n",
      "Epoch 4/5\n",
      "547/547 [==============================] - 136s 248ms/step - loss: 0.4883 - accuracy: 0.7648 - val_loss: 0.5308 - val_accuracy: 0.7499\n",
      "Epoch 5/5\n",
      "547/547 [==============================] - 131s 239ms/step - loss: 0.4645 - accuracy: 0.7839 - val_loss: 0.5006 - val_accuracy: 0.7597\n"
     ]
    },
    {
     "data": {
      "text/plain": [
       "<tensorflow.python.keras.callbacks.History at 0x1e8ba2f8608>"
      ]
     },
     "execution_count": 21,
     "metadata": {},
     "output_type": "execute_result"
    }
   ],
   "source": [
    "X = X/255.0\n",
    "model = Sequential()\n",
    "model.add(Conv2D(64 , (3,3) , input_shape= X.shape[1:]))\n",
    "model.add(Activation('relu'))\n",
    "model.add(MaxPooling2D(pool_size= (2,2)))\n",
    "\n",
    "model.add(Conv2D(64 , (3,3)) )\n",
    "model.add(Activation('relu'))\n",
    "model.add(MaxPooling2D(pool_size= (2,2)))\n",
    "\n",
    "model.add(Flatten())\n",
    "model.add(Dense(64))\n",
    "\n",
    "model.add(Dense(1))\n",
    "model.add(Activation('sigmoid'))\n",
    "\n",
    "model.compile(loss='binary_crossentropy' , optimizer = 'adam' , metrics = ['accuracy'])\n",
    "\n",
    "model.fit(X, Y , batch_size = 32 ,epochs=5, validation_split = 0.3)"
   ]
  },
  {
   "cell_type": "code",
   "execution_count": null,
   "metadata": {},
   "outputs": [],
   "source": []
  },
  {
   "cell_type": "code",
   "execution_count": 26,
   "metadata": {},
   "outputs": [
    {
     "name": "stdout",
     "output_type": "stream",
     "text": [
      "\n",
      "# Evaluate on test data\n",
      "196/196 [==============================] - 42s 214ms/step - loss: 72.3392 - accuracy: 0.6064\n",
      "test loss, test acc: [72.33920288085938, 0.606408953666687]\n",
      "\n",
      "# Generate predictions for 3 samples\n",
      "predictions shape: (3, 1)\n"
     ]
    }
   ],
   "source": [
    "testdir = \"images/test/\"\n",
    "img_size = 50\n",
    "testing_data = []\n",
    "for filename in os.listdir(testdir):\n",
    "    try:\n",
    "        img_array = cv2.imread(os.path.join(imagesdir, filename), 0)\n",
    "        img_array = cv2.resize(img_array , (img_size , img_size))    \n",
    "        if filename.startswith(\"dog\"):\n",
    "            classification = 1\n",
    "        else:\n",
    "            classification = 0\n",
    "        testing_data.append([img_array  , classification])\n",
    "    except Exception as e:\n",
    "        errors.append(e)\n",
    "random.shuffle(testing_data)\n",
    "X_test = []\n",
    "Y_test = []\n",
    "#separate into X and Y and reshape X\n",
    "for features , label in training_data:\n",
    "    X_test.append(features)\n",
    "    Y_test.append(label)\n",
    "X_test = np.array(X_test).reshape(-1 , img_size, img_size , 1)\n",
    "Y_test = np.array(Y_test)\n",
    "\n",
    "# Evaluate the model on the test data using `evaluate`\n",
    "print('\\n# Evaluate on test data')\n",
    "results = model.evaluate(X_test, Y_test, batch_size=128)\n",
    "print('test loss, test acc:', results)\n",
    "\n",
    "# Generate predictions (probabilities -- the output of the last layer)\n",
    "# on new data using `predict`\n",
    "print('\\n# Generate predictions for 3 samples')\n",
    "predictions = model.predict(X_test[:3])\n",
    "print('predictions shape:', predictions.shape)\n"
   ]
  },
  {
   "cell_type": "code",
   "execution_count": 27,
   "metadata": {},
   "outputs": [
    {
     "data": {
      "text/plain": [
       "24965"
      ]
     },
     "execution_count": 27,
     "metadata": {},
     "output_type": "execute_result"
    }
   ],
   "source": [
    "len(X_test)"
   ]
  },
  {
   "cell_type": "code",
   "execution_count": 33,
   "metadata": {},
   "outputs": [],
   "source": [
    "def prepare(filepath):\n",
    "    img_array = cv2.imread(filepath, 0)\n",
    "    new_array = cv2.resize(img_array , (img_size , img_size))    \n",
    "    return new_array.reshape(-1 , img_size , img_size , 1)\n",
    "\n",
    "predicion = model.predict([prepare('cat.jpg')])"
   ]
  },
  {
   "cell_type": "markdown",
   "metadata": {},
   "source": [
    "![CAT](cat.jpg \"Title\")"
   ]
  },
  {
   "cell_type": "code",
   "execution_count": 34,
   "metadata": {},
   "outputs": [
    {
     "name": "stdout",
     "output_type": "stream",
     "text": [
      "[[0.]]\n"
     ]
    }
   ],
   "source": [
    "print(predicion)"
   ]
  },
  {
   "cell_type": "markdown",
   "metadata": {},
   "source": [
    "![DOG](dog.jpg \"dog\")"
   ]
  },
  {
   "cell_type": "code",
   "execution_count": 8,
   "metadata": {},
   "outputs": [
    {
     "ename": "NameError",
     "evalue": "name 'model' is not defined",
     "output_type": "error",
     "traceback": [
      "\u001b[1;31m---------------------------------------------------------------------------\u001b[0m",
      "\u001b[1;31mNameError\u001b[0m                                 Traceback (most recent call last)",
      "\u001b[1;32m<ipython-input-8-2bab7378f87e>\u001b[0m in \u001b[0;36m<module>\u001b[1;34m\u001b[0m\n\u001b[1;32m----> 1\u001b[1;33m \u001b[0mpredicion\u001b[0m \u001b[1;33m=\u001b[0m \u001b[0mmodel\u001b[0m\u001b[1;33m.\u001b[0m\u001b[0mpredict\u001b[0m\u001b[1;33m(\u001b[0m\u001b[1;33m[\u001b[0m\u001b[0mprepare\u001b[0m\u001b[1;33m(\u001b[0m\u001b[1;34m'dog.jpg'\u001b[0m\u001b[1;33m)\u001b[0m\u001b[1;33m]\u001b[0m\u001b[1;33m)\u001b[0m\u001b[1;33m\u001b[0m\u001b[1;33m\u001b[0m\u001b[0m\n\u001b[0m",
      "\u001b[1;31mNameError\u001b[0m: name 'model' is not defined"
     ]
    }
   ],
   "source": [
    "predicion = model.predict([prepare('dog.jpg')])"
   ]
  },
  {
   "cell_type": "code",
   "execution_count": null,
   "metadata": {},
   "outputs": [],
   "source": []
  }
 ],
 "metadata": {
  "kernelspec": {
   "display_name": "Python 3",
   "language": "python",
   "name": "python3"
  },
  "language_info": {
   "codemirror_mode": {
    "name": "ipython",
    "version": 3
   },
   "file_extension": ".py",
   "mimetype": "text/x-python",
   "name": "python",
   "nbconvert_exporter": "python",
   "pygments_lexer": "ipython3",
   "version": "3.7.6"
  }
 },
 "nbformat": 4,
 "nbformat_minor": 4
}
